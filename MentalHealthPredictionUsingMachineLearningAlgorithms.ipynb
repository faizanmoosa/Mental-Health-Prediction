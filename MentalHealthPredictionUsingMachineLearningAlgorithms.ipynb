{
  "cells": [
    {
      "cell_type": "markdown",
      "metadata": {
        "colab_type": "text",
        "id": "view-in-github"
      },
      "source": [
        "<a href=\"https://colab.research.google.com/github/cdodiya/Mental-Health-Prediction-using-Machine-Learning-Algorithms/blob/main/MentalHealthPredictionUsingMachineLearningAlgorithms.ipynb\" target=\"_parent\"><img src=\"https://colab.research.google.com/assets/colab-badge.svg\" alt=\"Open In Colab\"/></a>"
      ]
    },
    {
      "cell_type": "markdown",
      "metadata": {
        "id": "HKU7gCyrUL1J"
      },
      "source": [
        "Libraries and Data Loading"
      ]
    },
    {
      "cell_type": "code",
      "execution_count": 110,
      "metadata": {
        "colab": {
          "base_uri": "https://localhost:8080/"
        },
        "id": "JaSY8PmhMoK8",
        "outputId": "0fb2dd0a-52de-498a-b990-2231dd39f006"
      },
      "outputs": [],
      "source": [
        "import pandas as pd\n",
        "\n",
        "# prep\n",
        "from sklearn.model_selection import train_test_split\n",
        "from sklearn import preprocessing\n",
        "from sklearn.preprocessing import MinMaxScaler\n",
        "\n",
        "# models\n",
        "from sklearn.linear_model import LogisticRegression\n",
        "from sklearn.tree import DecisionTreeClassifier\n",
        "from sklearn.ensemble import RandomForestClassifier\n",
        "\n",
        "# Validation libraries\n",
        "from sklearn import metrics\n",
        "from sklearn.model_selection import cross_val_score\n",
        "from sklearn.model_selection import RandomizedSearchCV, GridSearchCV\n",
        "\n",
        "#Bagging\n",
        "from sklearn.neighbors import KNeighborsClassifier"
      ]
    },
    {
      "cell_type": "code",
      "execution_count": 111,
      "metadata": {
        "colab": {
          "base_uri": "https://localhost:8080/"
        },
        "id": "KIVsuSklXTWM",
        "outputId": "50f0e7c2-0a35-4ea7-a0e2-72fcbbde9d0e"
      },
      "outputs": [
        {
          "name": "stdout",
          "output_type": "stream",
          "text": [
            "(1259, 27)\n",
            "<class 'pandas.core.frame.DataFrame'>\n",
            "RangeIndex: 1259 entries, 0 to 1258\n",
            "Data columns (total 27 columns):\n",
            " #   Column                     Non-Null Count  Dtype \n",
            "---  ------                     --------------  ----- \n",
            " 0   Timestamp                  1259 non-null   object\n",
            " 1   Age                        1259 non-null   int64 \n",
            " 2   Gender                     1259 non-null   object\n",
            " 3   Country                    1259 non-null   object\n",
            " 4   state                      744 non-null    object\n",
            " 5   self_employed              1241 non-null   object\n",
            " 6   family_history             1259 non-null   object\n",
            " 7   treatment                  1259 non-null   object\n",
            " 8   work_interfere             995 non-null    object\n",
            " 9   no_employees               1259 non-null   object\n",
            " 10  remote_work                1259 non-null   object\n",
            " 11  tech_company               1259 non-null   object\n",
            " 12  benefits                   1259 non-null   object\n",
            " 13  care_options               1259 non-null   object\n",
            " 14  wellness_program           1259 non-null   object\n",
            " 15  seek_help                  1259 non-null   object\n",
            " 16  anonymity                  1259 non-null   object\n",
            " 17  leave                      1259 non-null   object\n",
            " 18  mental_health_consequence  1259 non-null   object\n",
            " 19  phys_health_consequence    1259 non-null   object\n",
            " 20  coworkers                  1259 non-null   object\n",
            " 21  supervisor                 1259 non-null   object\n",
            " 22  mental_health_interview    1259 non-null   object\n",
            " 23  phys_health_interview      1259 non-null   object\n",
            " 24  mental_vs_physical         1259 non-null   object\n",
            " 25  obs_consequence            1259 non-null   object\n",
            " 26  comments                   164 non-null    object\n",
            "dtypes: int64(1), object(26)\n",
            "memory usage: 265.7+ KB\n",
            "None\n"
          ]
        }
      ],
      "source": [
        "train_df = pd.read_csv('survey.csv')\n",
        "print(train_df.shape)\n",
        "print(train_df.info())"
      ]
    },
    {
      "cell_type": "markdown",
      "metadata": {
        "id": "ZPKx4y5QX5by"
      },
      "source": [
        "Data Cleaning"
      ]
    },
    {
      "cell_type": "code",
      "execution_count": 112,
      "metadata": {
        "colab": {
          "base_uri": "https://localhost:8080/"
        },
        "id": "nGGtUHo5XzvX",
        "outputId": "3747df08-d077-483a-d33e-0a28aa55dd83"
      },
      "outputs": [
        {
          "name": "stdout",
          "output_type": "stream",
          "text": [
            "                           Total   Percent\n",
            "comments                    1095  0.869738\n",
            "state                        515  0.409055\n",
            "work_interfere               264  0.209690\n",
            "self_employed                 18  0.014297\n",
            "seek_help                      0  0.000000\n",
            "obs_consequence                0  0.000000\n",
            "mental_vs_physical             0  0.000000\n",
            "phys_health_interview          0  0.000000\n",
            "mental_health_interview        0  0.000000\n",
            "supervisor                     0  0.000000\n",
            "coworkers                      0  0.000000\n",
            "phys_health_consequence        0  0.000000\n",
            "mental_health_consequence      0  0.000000\n",
            "leave                          0  0.000000\n",
            "anonymity                      0  0.000000\n",
            "Timestamp                      0  0.000000\n",
            "wellness_program               0  0.000000\n",
            "Age                            0  0.000000\n",
            "benefits                       0  0.000000\n",
            "tech_company                   0  0.000000\n",
            "remote_work                    0  0.000000\n",
            "no_employees                   0  0.000000\n",
            "treatment                      0  0.000000\n",
            "family_history                 0  0.000000\n",
            "Country                        0  0.000000\n",
            "Gender                         0  0.000000\n",
            "care_options                   0  0.000000\n"
          ]
        }
      ],
      "source": [
        "# missing data\n",
        "total = train_df.isnull().sum().sort_values(ascending=False)\n",
        "percent = (train_df.isnull().sum()/train_df.isnull().count()).sort_values(ascending=False)\n",
        "missing_data = pd.concat([total, percent], axis=1, keys=['Total', 'Percent'])\n",
        "missing_data.head(20)\n",
        "print(missing_data)"
      ]
    },
    {
      "cell_type": "code",
      "execution_count": 113,
      "metadata": {
        "colab": {
          "base_uri": "https://localhost:8080/",
          "height": 309
        },
        "id": "EZL7prT6X-7T",
        "outputId": "9997402c-1832-4170-bf9c-a0d070f8108b"
      },
      "outputs": [
        {
          "data": {
            "text/html": [
              "<div>\n",
              "<style scoped>\n",
              "    .dataframe tbody tr th:only-of-type {\n",
              "        vertical-align: middle;\n",
              "    }\n",
              "\n",
              "    .dataframe tbody tr th {\n",
              "        vertical-align: top;\n",
              "    }\n",
              "\n",
              "    .dataframe thead th {\n",
              "        text-align: right;\n",
              "    }\n",
              "</style>\n",
              "<table border=\"1\" class=\"dataframe\">\n",
              "  <thead>\n",
              "    <tr style=\"text-align: right;\">\n",
              "      <th></th>\n",
              "      <th>Age</th>\n",
              "      <th>Gender</th>\n",
              "      <th>self_employed</th>\n",
              "      <th>family_history</th>\n",
              "      <th>treatment</th>\n",
              "      <th>work_interfere</th>\n",
              "      <th>no_employees</th>\n",
              "      <th>remote_work</th>\n",
              "      <th>tech_company</th>\n",
              "      <th>benefits</th>\n",
              "      <th>...</th>\n",
              "      <th>anonymity</th>\n",
              "      <th>leave</th>\n",
              "      <th>mental_health_consequence</th>\n",
              "      <th>phys_health_consequence</th>\n",
              "      <th>coworkers</th>\n",
              "      <th>supervisor</th>\n",
              "      <th>mental_health_interview</th>\n",
              "      <th>phys_health_interview</th>\n",
              "      <th>mental_vs_physical</th>\n",
              "      <th>obs_consequence</th>\n",
              "    </tr>\n",
              "  </thead>\n",
              "  <tbody>\n",
              "    <tr>\n",
              "      <th>0</th>\n",
              "      <td>37</td>\n",
              "      <td>Female</td>\n",
              "      <td>NaN</td>\n",
              "      <td>No</td>\n",
              "      <td>Yes</td>\n",
              "      <td>Often</td>\n",
              "      <td>6-25</td>\n",
              "      <td>No</td>\n",
              "      <td>Yes</td>\n",
              "      <td>Yes</td>\n",
              "      <td>...</td>\n",
              "      <td>Yes</td>\n",
              "      <td>Somewhat easy</td>\n",
              "      <td>No</td>\n",
              "      <td>No</td>\n",
              "      <td>Some of them</td>\n",
              "      <td>Yes</td>\n",
              "      <td>No</td>\n",
              "      <td>Maybe</td>\n",
              "      <td>Yes</td>\n",
              "      <td>No</td>\n",
              "    </tr>\n",
              "    <tr>\n",
              "      <th>1</th>\n",
              "      <td>44</td>\n",
              "      <td>M</td>\n",
              "      <td>NaN</td>\n",
              "      <td>No</td>\n",
              "      <td>No</td>\n",
              "      <td>Rarely</td>\n",
              "      <td>More than 1000</td>\n",
              "      <td>No</td>\n",
              "      <td>No</td>\n",
              "      <td>Don't know</td>\n",
              "      <td>...</td>\n",
              "      <td>Don't know</td>\n",
              "      <td>Don't know</td>\n",
              "      <td>Maybe</td>\n",
              "      <td>No</td>\n",
              "      <td>No</td>\n",
              "      <td>No</td>\n",
              "      <td>No</td>\n",
              "      <td>No</td>\n",
              "      <td>Don't know</td>\n",
              "      <td>No</td>\n",
              "    </tr>\n",
              "    <tr>\n",
              "      <th>2</th>\n",
              "      <td>32</td>\n",
              "      <td>Male</td>\n",
              "      <td>NaN</td>\n",
              "      <td>No</td>\n",
              "      <td>No</td>\n",
              "      <td>Rarely</td>\n",
              "      <td>6-25</td>\n",
              "      <td>No</td>\n",
              "      <td>Yes</td>\n",
              "      <td>No</td>\n",
              "      <td>...</td>\n",
              "      <td>Don't know</td>\n",
              "      <td>Somewhat difficult</td>\n",
              "      <td>No</td>\n",
              "      <td>No</td>\n",
              "      <td>Yes</td>\n",
              "      <td>Yes</td>\n",
              "      <td>Yes</td>\n",
              "      <td>Yes</td>\n",
              "      <td>No</td>\n",
              "      <td>No</td>\n",
              "    </tr>\n",
              "    <tr>\n",
              "      <th>3</th>\n",
              "      <td>31</td>\n",
              "      <td>Male</td>\n",
              "      <td>NaN</td>\n",
              "      <td>Yes</td>\n",
              "      <td>Yes</td>\n",
              "      <td>Often</td>\n",
              "      <td>26-100</td>\n",
              "      <td>No</td>\n",
              "      <td>Yes</td>\n",
              "      <td>No</td>\n",
              "      <td>...</td>\n",
              "      <td>No</td>\n",
              "      <td>Somewhat difficult</td>\n",
              "      <td>Yes</td>\n",
              "      <td>Yes</td>\n",
              "      <td>Some of them</td>\n",
              "      <td>No</td>\n",
              "      <td>Maybe</td>\n",
              "      <td>Maybe</td>\n",
              "      <td>No</td>\n",
              "      <td>Yes</td>\n",
              "    </tr>\n",
              "    <tr>\n",
              "      <th>4</th>\n",
              "      <td>31</td>\n",
              "      <td>Male</td>\n",
              "      <td>NaN</td>\n",
              "      <td>No</td>\n",
              "      <td>No</td>\n",
              "      <td>Never</td>\n",
              "      <td>100-500</td>\n",
              "      <td>Yes</td>\n",
              "      <td>Yes</td>\n",
              "      <td>Yes</td>\n",
              "      <td>...</td>\n",
              "      <td>Don't know</td>\n",
              "      <td>Don't know</td>\n",
              "      <td>No</td>\n",
              "      <td>No</td>\n",
              "      <td>Some of them</td>\n",
              "      <td>Yes</td>\n",
              "      <td>Yes</td>\n",
              "      <td>Yes</td>\n",
              "      <td>Don't know</td>\n",
              "      <td>No</td>\n",
              "    </tr>\n",
              "  </tbody>\n",
              "</table>\n",
              "<p>5 rows × 23 columns</p>\n",
              "</div>"
            ],
            "text/plain": [
              "   Age  Gender self_employed family_history treatment work_interfere  \\\n",
              "0   37  Female           NaN             No       Yes          Often   \n",
              "1   44       M           NaN             No        No         Rarely   \n",
              "2   32    Male           NaN             No        No         Rarely   \n",
              "3   31    Male           NaN            Yes       Yes          Often   \n",
              "4   31    Male           NaN             No        No          Never   \n",
              "\n",
              "     no_employees remote_work tech_company    benefits  ...   anonymity  \\\n",
              "0            6-25          No          Yes         Yes  ...         Yes   \n",
              "1  More than 1000          No           No  Don't know  ...  Don't know   \n",
              "2            6-25          No          Yes          No  ...  Don't know   \n",
              "3          26-100          No          Yes          No  ...          No   \n",
              "4         100-500         Yes          Yes         Yes  ...  Don't know   \n",
              "\n",
              "                leave mental_health_consequence phys_health_consequence  \\\n",
              "0       Somewhat easy                        No                      No   \n",
              "1          Don't know                     Maybe                      No   \n",
              "2  Somewhat difficult                        No                      No   \n",
              "3  Somewhat difficult                       Yes                     Yes   \n",
              "4          Don't know                        No                      No   \n",
              "\n",
              "      coworkers supervisor mental_health_interview phys_health_interview  \\\n",
              "0  Some of them        Yes                      No                 Maybe   \n",
              "1            No         No                      No                    No   \n",
              "2           Yes        Yes                     Yes                   Yes   \n",
              "3  Some of them         No                   Maybe                 Maybe   \n",
              "4  Some of them        Yes                     Yes                   Yes   \n",
              "\n",
              "  mental_vs_physical obs_consequence  \n",
              "0                Yes              No  \n",
              "1         Don't know              No  \n",
              "2                 No              No  \n",
              "3                 No             Yes  \n",
              "4         Don't know              No  \n",
              "\n",
              "[5 rows x 23 columns]"
            ]
          },
          "execution_count": 113,
          "metadata": {},
          "output_type": "execute_result"
        }
      ],
      "source": [
        "# dealing with missing data\n",
        "train_df.drop(['Timestamp'], axis = 1, inplace=True)\n",
        "train_df.drop(['Country'], axis= 1, inplace=True)\n",
        "train_df.drop(['state'], axis = 1, inplace=True)\n",
        "train_df.drop(['comments'], axis = 1, inplace=True)\n",
        "\n",
        "train_df.isnull().sum().max() # checking that there's no missing data\n",
        "train_df.head(5)"
      ]
    },
    {
      "cell_type": "markdown",
      "metadata": {
        "id": "JEJ01-IbYagP"
      },
      "source": [
        "Cleaning NaN"
      ]
    },
    {
      "cell_type": "code",
      "execution_count": 114,
      "metadata": {
        "colab": {
          "base_uri": "https://localhost:8080/",
          "height": 309
        },
        "id": "hI4SbkGXYTp_",
        "outputId": "59835891-4d62-480d-8e89-ce156a823753"
      },
      "outputs": [
        {
          "data": {
            "text/html": [
              "<div>\n",
              "<style scoped>\n",
              "    .dataframe tbody tr th:only-of-type {\n",
              "        vertical-align: middle;\n",
              "    }\n",
              "\n",
              "    .dataframe tbody tr th {\n",
              "        vertical-align: top;\n",
              "    }\n",
              "\n",
              "    .dataframe thead th {\n",
              "        text-align: right;\n",
              "    }\n",
              "</style>\n",
              "<table border=\"1\" class=\"dataframe\">\n",
              "  <thead>\n",
              "    <tr style=\"text-align: right;\">\n",
              "      <th></th>\n",
              "      <th>Age</th>\n",
              "      <th>Gender</th>\n",
              "      <th>self_employed</th>\n",
              "      <th>family_history</th>\n",
              "      <th>treatment</th>\n",
              "      <th>work_interfere</th>\n",
              "      <th>no_employees</th>\n",
              "      <th>remote_work</th>\n",
              "      <th>tech_company</th>\n",
              "      <th>benefits</th>\n",
              "      <th>...</th>\n",
              "      <th>anonymity</th>\n",
              "      <th>leave</th>\n",
              "      <th>mental_health_consequence</th>\n",
              "      <th>phys_health_consequence</th>\n",
              "      <th>coworkers</th>\n",
              "      <th>supervisor</th>\n",
              "      <th>mental_health_interview</th>\n",
              "      <th>phys_health_interview</th>\n",
              "      <th>mental_vs_physical</th>\n",
              "      <th>obs_consequence</th>\n",
              "    </tr>\n",
              "  </thead>\n",
              "  <tbody>\n",
              "    <tr>\n",
              "      <th>0</th>\n",
              "      <td>37</td>\n",
              "      <td>Female</td>\n",
              "      <td>NaN</td>\n",
              "      <td>No</td>\n",
              "      <td>Yes</td>\n",
              "      <td>Often</td>\n",
              "      <td>6-25</td>\n",
              "      <td>No</td>\n",
              "      <td>Yes</td>\n",
              "      <td>Yes</td>\n",
              "      <td>...</td>\n",
              "      <td>Yes</td>\n",
              "      <td>Somewhat easy</td>\n",
              "      <td>No</td>\n",
              "      <td>No</td>\n",
              "      <td>Some of them</td>\n",
              "      <td>Yes</td>\n",
              "      <td>No</td>\n",
              "      <td>Maybe</td>\n",
              "      <td>Yes</td>\n",
              "      <td>No</td>\n",
              "    </tr>\n",
              "    <tr>\n",
              "      <th>1</th>\n",
              "      <td>44</td>\n",
              "      <td>M</td>\n",
              "      <td>NaN</td>\n",
              "      <td>No</td>\n",
              "      <td>No</td>\n",
              "      <td>Rarely</td>\n",
              "      <td>More than 1000</td>\n",
              "      <td>No</td>\n",
              "      <td>No</td>\n",
              "      <td>Don't know</td>\n",
              "      <td>...</td>\n",
              "      <td>Don't know</td>\n",
              "      <td>Don't know</td>\n",
              "      <td>Maybe</td>\n",
              "      <td>No</td>\n",
              "      <td>No</td>\n",
              "      <td>No</td>\n",
              "      <td>No</td>\n",
              "      <td>No</td>\n",
              "      <td>Don't know</td>\n",
              "      <td>No</td>\n",
              "    </tr>\n",
              "    <tr>\n",
              "      <th>2</th>\n",
              "      <td>32</td>\n",
              "      <td>Male</td>\n",
              "      <td>NaN</td>\n",
              "      <td>No</td>\n",
              "      <td>No</td>\n",
              "      <td>Rarely</td>\n",
              "      <td>6-25</td>\n",
              "      <td>No</td>\n",
              "      <td>Yes</td>\n",
              "      <td>No</td>\n",
              "      <td>...</td>\n",
              "      <td>Don't know</td>\n",
              "      <td>Somewhat difficult</td>\n",
              "      <td>No</td>\n",
              "      <td>No</td>\n",
              "      <td>Yes</td>\n",
              "      <td>Yes</td>\n",
              "      <td>Yes</td>\n",
              "      <td>Yes</td>\n",
              "      <td>No</td>\n",
              "      <td>No</td>\n",
              "    </tr>\n",
              "    <tr>\n",
              "      <th>3</th>\n",
              "      <td>31</td>\n",
              "      <td>Male</td>\n",
              "      <td>NaN</td>\n",
              "      <td>Yes</td>\n",
              "      <td>Yes</td>\n",
              "      <td>Often</td>\n",
              "      <td>26-100</td>\n",
              "      <td>No</td>\n",
              "      <td>Yes</td>\n",
              "      <td>No</td>\n",
              "      <td>...</td>\n",
              "      <td>No</td>\n",
              "      <td>Somewhat difficult</td>\n",
              "      <td>Yes</td>\n",
              "      <td>Yes</td>\n",
              "      <td>Some of them</td>\n",
              "      <td>No</td>\n",
              "      <td>Maybe</td>\n",
              "      <td>Maybe</td>\n",
              "      <td>No</td>\n",
              "      <td>Yes</td>\n",
              "    </tr>\n",
              "    <tr>\n",
              "      <th>4</th>\n",
              "      <td>31</td>\n",
              "      <td>Male</td>\n",
              "      <td>NaN</td>\n",
              "      <td>No</td>\n",
              "      <td>No</td>\n",
              "      <td>Never</td>\n",
              "      <td>100-500</td>\n",
              "      <td>Yes</td>\n",
              "      <td>Yes</td>\n",
              "      <td>Yes</td>\n",
              "      <td>...</td>\n",
              "      <td>Don't know</td>\n",
              "      <td>Don't know</td>\n",
              "      <td>No</td>\n",
              "      <td>No</td>\n",
              "      <td>Some of them</td>\n",
              "      <td>Yes</td>\n",
              "      <td>Yes</td>\n",
              "      <td>Yes</td>\n",
              "      <td>Don't know</td>\n",
              "      <td>No</td>\n",
              "    </tr>\n",
              "  </tbody>\n",
              "</table>\n",
              "<p>5 rows × 23 columns</p>\n",
              "</div>"
            ],
            "text/plain": [
              "   Age  Gender self_employed family_history treatment work_interfere  \\\n",
              "0   37  Female           NaN             No       Yes          Often   \n",
              "1   44       M           NaN             No        No         Rarely   \n",
              "2   32    Male           NaN             No        No         Rarely   \n",
              "3   31    Male           NaN            Yes       Yes          Often   \n",
              "4   31    Male           NaN             No        No          Never   \n",
              "\n",
              "     no_employees remote_work tech_company    benefits  ...   anonymity  \\\n",
              "0            6-25          No          Yes         Yes  ...         Yes   \n",
              "1  More than 1000          No           No  Don't know  ...  Don't know   \n",
              "2            6-25          No          Yes          No  ...  Don't know   \n",
              "3          26-100          No          Yes          No  ...          No   \n",
              "4         100-500         Yes          Yes         Yes  ...  Don't know   \n",
              "\n",
              "                leave mental_health_consequence phys_health_consequence  \\\n",
              "0       Somewhat easy                        No                      No   \n",
              "1          Don't know                     Maybe                      No   \n",
              "2  Somewhat difficult                        No                      No   \n",
              "3  Somewhat difficult                       Yes                     Yes   \n",
              "4          Don't know                        No                      No   \n",
              "\n",
              "      coworkers supervisor mental_health_interview phys_health_interview  \\\n",
              "0  Some of them        Yes                      No                 Maybe   \n",
              "1            No         No                      No                    No   \n",
              "2           Yes        Yes                     Yes                   Yes   \n",
              "3  Some of them         No                   Maybe                 Maybe   \n",
              "4  Some of them        Yes                     Yes                   Yes   \n",
              "\n",
              "  mental_vs_physical obs_consequence  \n",
              "0                Yes              No  \n",
              "1         Don't know              No  \n",
              "2                 No              No  \n",
              "3                 No             Yes  \n",
              "4         Don't know              No  \n",
              "\n",
              "[5 rows x 23 columns]"
            ]
          },
          "execution_count": 114,
          "metadata": {},
          "output_type": "execute_result"
        }
      ],
      "source": [
        "# assign default values for each data type\n",
        "defaultInt = 0\n",
        "defaultString = 'NaN'\n",
        "defaultFloat = 0.0\n",
        "\n",
        "# create lists by data type\n",
        "intFeatures = ['Age']\n",
        "stringFeatures = ['Gender', 'Country', 'self_employed', 'family_history', 'treatment', 'work_interfere',\n",
        "                 'no_employees', 'remote_work', 'tech_company', 'anonymity', 'leave', 'mental_health_consequence',\n",
        "                 'phys_health_consequence', 'coworkers', 'supervisor', 'mental_health_interview', 'phys_health_interview',\n",
        "                 'mental_vs_physical', 'obs_consequence', 'benefits', 'care_options', 'wellness_program',\n",
        "                 'seek_help']\n",
        "floatFeatures = []\n",
        "\n",
        "# clean the NaN's\n",
        "for feature in train_df:\n",
        "    if feature in intFeatures:\n",
        "        train_df[feature] = train_df[feature].fillna(defaultInt)\n",
        "    elif feature in stringFeatures:\n",
        "        train_df[feature] = train_df[feature].fillna(defaultString)\n",
        "    elif feature in floatFeatures:\n",
        "        train_df[feature] = train_df[feature].fillna(defaultFloat)\n",
        "train_df.head()"
      ]
    },
    {
      "cell_type": "code",
      "execution_count": 115,
      "metadata": {
        "colab": {
          "base_uri": "https://localhost:8080/"
        },
        "id": "DAgJLUoBYzHI",
        "outputId": "624341db-ac27-479c-9b39-473cb56bde7d"
      },
      "outputs": [
        {
          "name": "stdout",
          "output_type": "stream",
          "text": [
            "['Female' 'M' 'Male' 'male' 'female' 'm' 'Male-ish' 'maile' 'Trans-female'\n",
            " 'Cis Female' 'F' 'something kinda male?' 'Cis Male' 'Woman' 'f' 'Mal'\n",
            " 'Male (CIS)' 'queer/she/they' 'non-binary' 'Femake' 'woman' 'Make' 'Nah'\n",
            " 'All' 'Enby' 'fluid' 'Genderqueer' 'Female ' 'Androgyne' 'Agender'\n",
            " 'cis-female/femme' 'Guy (-ish) ^_^' 'male leaning androgynous' 'Male '\n",
            " 'Man' 'Trans woman' 'msle' 'Neuter' 'Female (trans)' 'queer'\n",
            " 'Female (cis)' 'Mail' 'cis male' 'A little about you' 'Malr' 'p' 'femail'\n",
            " 'Cis Man' 'ostensibly male, unsure what that really means']\n"
          ]
        }
      ],
      "source": [
        "# clean 'Gender'\n",
        "gender = train_df['Gender'].unique()\n",
        "print(gender)"
      ]
    },
    {
      "cell_type": "code",
      "execution_count": 116,
      "metadata": {
        "colab": {
          "base_uri": "https://localhost:8080/"
        },
        "id": "ci8qNBlHZWjt",
        "outputId": "76dccc56-193b-4c83-c4b0-9486616784c2"
      },
      "outputs": [
        {
          "name": "stdout",
          "output_type": "stream",
          "text": [
            "['female' 'male' 'trans']\n"
          ]
        }
      ],
      "source": [
        "# made gender groups\n",
        "male_str = [\"male\", \"m\", \"male-ish\", \"maile\", \"mal\", \"male (cis)\", \"make\", \"male \", \"man\",\"msle\", \"mail\", \"malr\",\"cis man\", \"Cis Male\", \"cis male\"]\n",
        "trans_str = [\"trans-female\", \"something kinda male?\", \"queer/she/they\", \"non-binary\",\"nah\", \"all\", \"enby\", \"fluid\", \"genderqueer\", \"androgyne\", \"agender\", \"male leaning androgynous\", \"guy (-ish) ^_^\", \"trans woman\", \"neuter\", \"female (trans)\", \"queer\", \"ostensibly male, unsure what that really means\"]           \n",
        "female_str = [\"cis female\", \"f\", \"female\", \"woman\",  \"femake\", \"female \",\"cis-female/femme\", \"female (cis)\", \"femail\"]\n",
        "\n",
        "for (row, col) in train_df.iterrows():\n",
        "\n",
        "    if str.lower(col.Gender) in male_str:\n",
        "        train_df['Gender'].replace(to_replace=col.Gender, value='male', inplace=True)\n",
        "\n",
        "    if str.lower(col.Gender) in female_str:\n",
        "        train_df['Gender'].replace(to_replace=col.Gender, value='female', inplace=True)\n",
        "\n",
        "    if str.lower(col.Gender) in trans_str:\n",
        "        train_df['Gender'].replace(to_replace=col.Gender, value='trans', inplace=True)\n",
        "\n",
        "#Get rid of this\n",
        "stk_list = ['A little about you', 'p']\n",
        "train_df = train_df[~train_df['Gender'].isin(stk_list)]\n",
        "\n",
        "print(train_df['Gender'].unique())"
      ]
    },
    {
      "cell_type": "code",
      "execution_count": 117,
      "metadata": {
        "id": "LytRp-MiZ3WM"
      },
      "outputs": [],
      "source": [
        "# complete missing age with mean\n",
        "train_df['Age'].fillna(train_df['Age'].median(), inplace = True)\n",
        "\n",
        "# fill with media() values < 18 and > 120\n",
        "s = pd.Series(train_df['Age'])\n",
        "s[s<18] = train_df['Age'].median()\n",
        "train_df['Age'] = s\n",
        "s = pd.Series(train_df['Age'])\n",
        "s[s>120] = train_df['Age'].median()\n",
        "train_df['Age'] = s"
      ]
    },
    {
      "cell_type": "code",
      "execution_count": 118,
      "metadata": {
        "colab": {
          "base_uri": "https://localhost:8080/"
        },
        "id": "-a4jIjqfaAsQ",
        "outputId": "3a9cdcc2-59bb-4752-a284-33997decf571"
      },
      "outputs": [
        {
          "name": "stdout",
          "output_type": "stream",
          "text": [
            "['No' 'Yes']\n"
          ]
        }
      ],
      "source": [
        "# there are only 0.014% of self employed so let's change NaN to NOT self_employed\n",
        "train_df['self_employed'] = train_df['self_employed'].replace([defaultString], 'No')\n",
        "print(train_df['self_employed'].unique())"
      ]
    },
    {
      "cell_type": "code",
      "execution_count": 119,
      "metadata": {
        "colab": {
          "base_uri": "https://localhost:8080/"
        },
        "id": "dlH2JMtjaI96",
        "outputId": "06884d43-f96a-4463-c306-530250947dc3"
      },
      "outputs": [
        {
          "name": "stdout",
          "output_type": "stream",
          "text": [
            "['Often' 'Rarely' 'Never' 'Sometimes' \"Don't know\"]\n"
          ]
        }
      ],
      "source": [
        "# there are only 0.20% of self work_interfere so let's change NaN to \"Don't know\n",
        "train_df['work_interfere'] = train_df['work_interfere'].replace([defaultString], 'Don\\'t know' )\n",
        "print(train_df['work_interfere'].unique())"
      ]
    },
    {
      "cell_type": "markdown",
      "metadata": {
        "id": "vU9sRPnQaP2D"
      },
      "source": [
        "Encoding Data"
      ]
    },
    {
      "cell_type": "code",
      "execution_count": 120,
      "metadata": {
        "colab": {
          "base_uri": "https://localhost:8080/"
        },
        "id": "VrFCOYpSaNrL",
        "outputId": "1115893e-7b32-4c7c-cd2b-56b49fedf919"
      },
      "outputs": [
        {
          "name": "stdout",
          "output_type": "stream",
          "text": [
            "label_Age [18, 19, 20, 21, 22, 23, 24, 25, 26, 27, 28, 29, 30, 31, 32, 33, 34, 35, 36, 37, 38, 39, 40, 41, 42, 43, 44, 45, 46, 47, 48, 49, 50, 51, 53, 54, 55, 56, 57, 58, 60, 61, 62, 65, 72]\n",
            "label_Gender ['female', 'male', 'trans']\n",
            "label_self_employed ['No', 'Yes']\n",
            "label_family_history ['No', 'Yes']\n",
            "label_treatment ['No', 'Yes']\n",
            "label_work_interfere [\"Don't know\", 'Never', 'Often', 'Rarely', 'Sometimes']\n",
            "label_no_employees ['1-5', '100-500', '26-100', '500-1000', '6-25', 'More than 1000']\n",
            "label_remote_work ['No', 'Yes']\n",
            "label_tech_company ['No', 'Yes']\n",
            "label_benefits [\"Don't know\", 'No', 'Yes']\n",
            "label_care_options ['No', 'Not sure', 'Yes']\n",
            "label_wellness_program [\"Don't know\", 'No', 'Yes']\n",
            "label_seek_help [\"Don't know\", 'No', 'Yes']\n",
            "label_anonymity [\"Don't know\", 'No', 'Yes']\n",
            "label_leave [\"Don't know\", 'Somewhat difficult', 'Somewhat easy', 'Very difficult', 'Very easy']\n",
            "label_mental_health_consequence ['Maybe', 'No', 'Yes']\n",
            "label_phys_health_consequence ['Maybe', 'No', 'Yes']\n",
            "label_coworkers ['No', 'Some of them', 'Yes']\n",
            "label_supervisor ['No', 'Some of them', 'Yes']\n",
            "label_mental_health_interview ['Maybe', 'No', 'Yes']\n",
            "label_phys_health_interview ['Maybe', 'No', 'Yes']\n",
            "label_mental_vs_physical [\"Don't know\", 'No', 'Yes']\n",
            "label_obs_consequence ['No', 'Yes']\n"
          ]
        }
      ],
      "source": [
        "# encoding data\n",
        "labelDict = {}\n",
        "for feature in train_df:\n",
        "    le = preprocessing.LabelEncoder()\n",
        "    le.fit(train_df[feature])\n",
        "    le_name_mapping = dict(zip(le.classes_, le.transform(le.classes_)))\n",
        "    train_df[feature] = le.transform(train_df[feature])\n",
        "    # get labels\n",
        "    labelKey = 'label_' + feature\n",
        "    labelValue = [*le_name_mapping]\n",
        "    labelDict[labelKey] =labelValue\n",
        "    \n",
        "for key, value in labelDict.items():     \n",
        "    print(key, value)"
      ]
    },
    {
      "cell_type": "markdown",
      "metadata": {
        "id": "4DNKbr_TajZa"
      },
      "source": [
        "Testing there aren't any missing data"
      ]
    },
    {
      "cell_type": "code",
      "execution_count": 121,
      "metadata": {
        "colab": {
          "base_uri": "https://localhost:8080/"
        },
        "id": "cxlJqy9KadVC",
        "outputId": "e0f83c12-a467-46c4-c219-e61ea021f067"
      },
      "outputs": [
        {
          "name": "stdout",
          "output_type": "stream",
          "text": [
            "                           Total  Percent\n",
            "Age                            0      0.0\n",
            "seek_help                      0      0.0\n",
            "mental_vs_physical             0      0.0\n",
            "phys_health_interview          0      0.0\n",
            "mental_health_interview        0      0.0\n",
            "supervisor                     0      0.0\n",
            "coworkers                      0      0.0\n",
            "phys_health_consequence        0      0.0\n",
            "mental_health_consequence      0      0.0\n",
            "leave                          0      0.0\n",
            "anonymity                      0      0.0\n",
            "wellness_program               0      0.0\n",
            "Gender                         0      0.0\n",
            "care_options                   0      0.0\n",
            "benefits                       0      0.0\n",
            "tech_company                   0      0.0\n",
            "remote_work                    0      0.0\n",
            "no_employees                   0      0.0\n",
            "work_interfere                 0      0.0\n",
            "treatment                      0      0.0\n",
            "family_history                 0      0.0\n",
            "self_employed                  0      0.0\n",
            "obs_consequence                0      0.0\n"
          ]
        }
      ],
      "source": [
        "# missing data\n",
        "total = train_df.isnull().sum().sort_values(ascending=False)\n",
        "percent = (train_df.isnull().sum()/train_df.isnull().count()).sort_values(ascending=False)\n",
        "missing_data = pd.concat([total, percent], axis=1, keys=['Total', 'Percent'])\n",
        "missing_data.head(20)\n",
        "print(missing_data)"
      ]
    },
    {
      "cell_type": "markdown",
      "metadata": {
        "id": "eSN4p5CWc_4z"
      },
      "source": [
        "Features Scaling We're going to scale age, because is extremely different from the othere ones.\n",
        "\n"
      ]
    },
    {
      "cell_type": "code",
      "execution_count": 122,
      "metadata": {
        "colab": {
          "base_uri": "https://localhost:8080/",
          "height": 224
        },
        "id": "E8CEx69mc0Ff",
        "outputId": "d631bcaf-402c-48ff-fd6d-aee434e81b8e"
      },
      "outputs": [
        {
          "data": {
            "text/html": [
              "<div>\n",
              "<style scoped>\n",
              "    .dataframe tbody tr th:only-of-type {\n",
              "        vertical-align: middle;\n",
              "    }\n",
              "\n",
              "    .dataframe tbody tr th {\n",
              "        vertical-align: top;\n",
              "    }\n",
              "\n",
              "    .dataframe thead th {\n",
              "        text-align: right;\n",
              "    }\n",
              "</style>\n",
              "<table border=\"1\" class=\"dataframe\">\n",
              "  <thead>\n",
              "    <tr style=\"text-align: right;\">\n",
              "      <th></th>\n",
              "      <th>Age</th>\n",
              "      <th>Gender</th>\n",
              "      <th>self_employed</th>\n",
              "      <th>family_history</th>\n",
              "      <th>treatment</th>\n",
              "      <th>work_interfere</th>\n",
              "      <th>no_employees</th>\n",
              "      <th>remote_work</th>\n",
              "      <th>tech_company</th>\n",
              "      <th>benefits</th>\n",
              "      <th>...</th>\n",
              "      <th>anonymity</th>\n",
              "      <th>leave</th>\n",
              "      <th>mental_health_consequence</th>\n",
              "      <th>phys_health_consequence</th>\n",
              "      <th>coworkers</th>\n",
              "      <th>supervisor</th>\n",
              "      <th>mental_health_interview</th>\n",
              "      <th>phys_health_interview</th>\n",
              "      <th>mental_vs_physical</th>\n",
              "      <th>obs_consequence</th>\n",
              "    </tr>\n",
              "  </thead>\n",
              "  <tbody>\n",
              "    <tr>\n",
              "      <th>0</th>\n",
              "      <td>0.431818</td>\n",
              "      <td>0</td>\n",
              "      <td>0</td>\n",
              "      <td>0</td>\n",
              "      <td>1</td>\n",
              "      <td>2</td>\n",
              "      <td>4</td>\n",
              "      <td>0</td>\n",
              "      <td>1</td>\n",
              "      <td>2</td>\n",
              "      <td>...</td>\n",
              "      <td>2</td>\n",
              "      <td>2</td>\n",
              "      <td>1</td>\n",
              "      <td>1</td>\n",
              "      <td>1</td>\n",
              "      <td>2</td>\n",
              "      <td>1</td>\n",
              "      <td>0</td>\n",
              "      <td>2</td>\n",
              "      <td>0</td>\n",
              "    </tr>\n",
              "    <tr>\n",
              "      <th>1</th>\n",
              "      <td>0.590909</td>\n",
              "      <td>1</td>\n",
              "      <td>0</td>\n",
              "      <td>0</td>\n",
              "      <td>0</td>\n",
              "      <td>3</td>\n",
              "      <td>5</td>\n",
              "      <td>0</td>\n",
              "      <td>0</td>\n",
              "      <td>0</td>\n",
              "      <td>...</td>\n",
              "      <td>0</td>\n",
              "      <td>0</td>\n",
              "      <td>0</td>\n",
              "      <td>1</td>\n",
              "      <td>0</td>\n",
              "      <td>0</td>\n",
              "      <td>1</td>\n",
              "      <td>1</td>\n",
              "      <td>0</td>\n",
              "      <td>0</td>\n",
              "    </tr>\n",
              "    <tr>\n",
              "      <th>2</th>\n",
              "      <td>0.318182</td>\n",
              "      <td>1</td>\n",
              "      <td>0</td>\n",
              "      <td>0</td>\n",
              "      <td>0</td>\n",
              "      <td>3</td>\n",
              "      <td>4</td>\n",
              "      <td>0</td>\n",
              "      <td>1</td>\n",
              "      <td>1</td>\n",
              "      <td>...</td>\n",
              "      <td>0</td>\n",
              "      <td>1</td>\n",
              "      <td>1</td>\n",
              "      <td>1</td>\n",
              "      <td>2</td>\n",
              "      <td>2</td>\n",
              "      <td>2</td>\n",
              "      <td>2</td>\n",
              "      <td>1</td>\n",
              "      <td>0</td>\n",
              "    </tr>\n",
              "    <tr>\n",
              "      <th>3</th>\n",
              "      <td>0.295455</td>\n",
              "      <td>1</td>\n",
              "      <td>0</td>\n",
              "      <td>1</td>\n",
              "      <td>1</td>\n",
              "      <td>2</td>\n",
              "      <td>2</td>\n",
              "      <td>0</td>\n",
              "      <td>1</td>\n",
              "      <td>1</td>\n",
              "      <td>...</td>\n",
              "      <td>1</td>\n",
              "      <td>1</td>\n",
              "      <td>2</td>\n",
              "      <td>2</td>\n",
              "      <td>1</td>\n",
              "      <td>0</td>\n",
              "      <td>0</td>\n",
              "      <td>0</td>\n",
              "      <td>1</td>\n",
              "      <td>1</td>\n",
              "    </tr>\n",
              "    <tr>\n",
              "      <th>4</th>\n",
              "      <td>0.295455</td>\n",
              "      <td>1</td>\n",
              "      <td>0</td>\n",
              "      <td>0</td>\n",
              "      <td>0</td>\n",
              "      <td>1</td>\n",
              "      <td>1</td>\n",
              "      <td>1</td>\n",
              "      <td>1</td>\n",
              "      <td>2</td>\n",
              "      <td>...</td>\n",
              "      <td>0</td>\n",
              "      <td>0</td>\n",
              "      <td>1</td>\n",
              "      <td>1</td>\n",
              "      <td>1</td>\n",
              "      <td>2</td>\n",
              "      <td>2</td>\n",
              "      <td>2</td>\n",
              "      <td>0</td>\n",
              "      <td>0</td>\n",
              "    </tr>\n",
              "  </tbody>\n",
              "</table>\n",
              "<p>5 rows × 23 columns</p>\n",
              "</div>"
            ],
            "text/plain": [
              "        Age  Gender  self_employed  family_history  treatment  work_interfere  \\\n",
              "0  0.431818       0              0               0          1               2   \n",
              "1  0.590909       1              0               0          0               3   \n",
              "2  0.318182       1              0               0          0               3   \n",
              "3  0.295455       1              0               1          1               2   \n",
              "4  0.295455       1              0               0          0               1   \n",
              "\n",
              "   no_employees  remote_work  tech_company  benefits  ...  anonymity  leave  \\\n",
              "0             4            0             1         2  ...          2      2   \n",
              "1             5            0             0         0  ...          0      0   \n",
              "2             4            0             1         1  ...          0      1   \n",
              "3             2            0             1         1  ...          1      1   \n",
              "4             1            1             1         2  ...          0      0   \n",
              "\n",
              "   mental_health_consequence  phys_health_consequence  coworkers  supervisor  \\\n",
              "0                          1                        1          1           2   \n",
              "1                          0                        1          0           0   \n",
              "2                          1                        1          2           2   \n",
              "3                          2                        2          1           0   \n",
              "4                          1                        1          1           2   \n",
              "\n",
              "   mental_health_interview  phys_health_interview  mental_vs_physical  \\\n",
              "0                        1                      0                   2   \n",
              "1                        1                      1                   0   \n",
              "2                        2                      2                   1   \n",
              "3                        0                      0                   1   \n",
              "4                        2                      2                   0   \n",
              "\n",
              "   obs_consequence  \n",
              "0                0  \n",
              "1                0  \n",
              "2                0  \n",
              "3                1  \n",
              "4                0  \n",
              "\n",
              "[5 rows x 23 columns]"
            ]
          },
          "execution_count": 122,
          "metadata": {},
          "output_type": "execute_result"
        }
      ],
      "source": [
        "# scaling Age\n",
        "scaler = MinMaxScaler()\n",
        "train_df['Age'] = scaler.fit_transform(train_df[['Age']])\n",
        "train_df.head()"
      ]
    },
    {
      "cell_type": "markdown",
      "metadata": {
        "id": "emP7M76leCr2"
      },
      "source": [
        "Spilitting Dataset"
      ]
    },
    {
      "cell_type": "code",
      "execution_count": 123,
      "metadata": {
        "id": "d4PCK9kudFlM"
      },
      "outputs": [],
      "source": [
        "# define X and y\n",
        "feature_cols = ['Age', 'Gender', 'family_history', 'benefits', 'care_options', 'anonymity', 'leave', 'work_interfere']\n",
        "X = train_df[feature_cols]\n",
        "y = train_df.treatment\n",
        "\n",
        "# split X and y into training and testing sets\n",
        "X_train, X_test, y_train, y_test = train_test_split(X, y, test_size=0.30, random_state=0)\n",
        "\n",
        "# create dictionaries for final graph\n",
        "# use: methodDict['Stacking'] = accuracy_score\n",
        "methodDict = {}\n",
        "rmseDict = ()"
      ]
    },
    {
      "cell_type": "markdown",
      "metadata": {
        "id": "J2wG6BfSeSVo"
      },
      "source": [
        "Evaluating"
      ]
    },
    {
      "cell_type": "code",
      "execution_count": 143,
      "metadata": {
        "id": "rqq2ECp2eOKh"
      },
      "outputs": [],
      "source": [
        "def evalClassModel(model, y_test, y_pred_class, plot=False):\n",
        "    # classification accuracy: percentage of correct predictions\n",
        "    # calculate accuracy\n",
        "    print('Accuracy:', metrics.accuracy_score(y_test, y_pred_class))\n",
        "    \n",
        "    # classification Error: Overall, how often is the classifier incorrect?\n",
        "    print('Classification Error:', 1 - metrics.accuracy_score(y_test, y_pred_class))\n",
        "    \n",
        "    # precision: When a positive value is predicted, how often is the prediction correct?\n",
        "    print('Precision:', metrics.precision_score(y_test, y_pred_class))\n",
        "    \n",
        "    # IMPORTANT: first argument is true values, second argument is predicted probabilities\n",
        "    print('AUC Score:', metrics.roc_auc_score(y_test, y_pred_class))\n",
        "    \n",
        "    # calculate cross-validated AUC\n",
        "    print('Cross-validated AUC:', cross_val_score(model, X, y, cv=10, scoring='roc_auc').mean())\n",
        "\n",
        "    # adjusting the classification threshold\n",
        "    # print the first 10 predicted responses\n",
        "    print('First 10 predicted responses:\\n', model.predict(X_test)[0:10])"
      ]
    },
    {
      "cell_type": "markdown",
      "metadata": {
        "id": "y7tGbmc4fW9C"
      },
      "source": [
        "Tuning with cross validation score"
      ]
    },
    {
      "cell_type": "code",
      "execution_count": 125,
      "metadata": {
        "id": "l9Y7NReefTiV"
      },
      "outputs": [],
      "source": [
        "def tuningCV(knn):\n",
        "    \n",
        "    # search for an optimal value of K for KNN\n",
        "    k_range = list(range(1, 31))\n",
        "    k_scores = []\n",
        "    for k in k_range:\n",
        "        knn = KNeighborsClassifier(n_neighbors=k)\n",
        "        scores = cross_val_score(knn, X, y, cv=10, scoring='accuracy')\n",
        "        k_scores.append(scores.mean())\n",
        "    print(k_scores)"
      ]
    },
    {
      "cell_type": "markdown",
      "metadata": {
        "id": "eYytocEofeOE"
      },
      "source": [
        "Tuning with GridSearchCV"
      ]
    },
    {
      "cell_type": "code",
      "execution_count": 126,
      "metadata": {
        "id": "PjE6ARIYfbkd"
      },
      "outputs": [],
      "source": [
        "def tuningGridSerach(knn):\n",
        "    # more efficient parameter tuning using GridSearchCV\n",
        "    k_range = list(range(1, 31))\n",
        "    print(k_range)\n",
        "    \n",
        "    # create a parameter grid: map the parameter names to the values that should be searched\n",
        "    param_grid = dict(n_neighbors=k_range)\n",
        "    print(param_grid)\n",
        "    \n",
        "    # instantiate the grid\n",
        "    grid = GridSearchCV(knn, param_grid, cv=10, scoring='accuracy')\n",
        "\n",
        "    # fit the grid with data\n",
        "    grid.fit(X, y)\n",
        "    \n",
        "    # view the complete results (list of named tuples)\n",
        "    grid.grid_scores_\n",
        "    \n",
        "    # examine the first tuple\n",
        "    print(grid.grid_scores_[0].parameters)\n",
        "    print(grid.grid_scores_[0].cv_validation_scores)\n",
        "    print(grid.grid_scores_[0].mean_validation_score)\n",
        "    \n",
        "    # create a list of the mean scores only\n",
        "    grid_mean_scores = [result.mean_validation_score for result in grid.grid_scores_]\n",
        "    print(grid_mean_scores)\n",
        "    \n",
        "    # examine the best model\n",
        "    print('GridSearch best score', grid.best_score_)\n",
        "    print('GridSearch best params', grid.best_params_)\n",
        "    print('GridSearch best estimator', grid.best_estimator_)"
      ]
    },
    {
      "cell_type": "markdown",
      "metadata": {
        "id": "pFhg6D_wfrUt"
      },
      "source": [
        "Tuning with RandomizedSearchCV"
      ]
    },
    {
      "cell_type": "code",
      "execution_count": 127,
      "metadata": {
        "id": "VrfBM1XUfoxf"
      },
      "outputs": [],
      "source": [
        "def tuningRandomizedSearchCV(model, param_dist):\n",
        "    # searching multiple parameters simultaneously\n",
        "    # n_iter controls the number of searches\n",
        "    rand = RandomizedSearchCV(model, param_dist, cv=10, scoring='accuracy', n_iter=10, random_state=5)\n",
        "    rand.fit(X, y)\n",
        "    rand.cv_results_\n",
        "    \n",
        "    # examine the best model\n",
        "    print('Rand. Best Score: ', rand.best_score_)\n",
        "    print('Rand. Best Params: ', rand.best_params_)\n",
        "    \n",
        "    # run RandomizedSearchCV 20 times (with n_iter=10) and record the best score\n",
        "    best_scores = []\n",
        "    for _ in range(20):\n",
        "        rand = RandomizedSearchCV(model, param_dist, cv=10, scoring='accuracy', n_iter=10)\n",
        "        rand.fit(X, y)\n",
        "        best_scores.append(round(rand.best_score_, 3))\n",
        "    print(best_scores)"
      ]
    },
    {
      "cell_type": "markdown",
      "metadata": {
        "id": "vzaS7F-vfzeV"
      },
      "source": [
        "Tuning with searching multiple parameters simultaneously"
      ]
    },
    {
      "cell_type": "code",
      "execution_count": 128,
      "metadata": {
        "id": "MeSKD8Abfw94"
      },
      "outputs": [],
      "source": [
        "def tuningMultParam(knn):\n",
        "    \n",
        "    # searching multiple parameters simultaneously\n",
        "    # define the parameter values that should be searched\n",
        "    k_range = list(range(1, 31))\n",
        "    weight_options = ['uniform', 'distance']\n",
        "        \n",
        "    # create a parameter grid: map the parameter names to the values that should be searched\n",
        "    param_grid = dict(n_neighbors=k_range, weights=weight_options)\n",
        "    print(param_grid) \n",
        "    \n",
        "    # instantiate and fit the grid\n",
        "    grid = GridSearchCV(knn, param_grid, cv=10, scoring='accuracy')\n",
        "    grid.fit(X, y) \n",
        "    \n",
        "    # view the complete results\n",
        "    print(grid.grid_scores_)\n",
        "    \n",
        "    # examine the best model\n",
        "    print('Multiparam. Best Score: ', grid.best_score_)\n",
        "    print('Multiparam. Best Params: ', grid.best_params_)"
      ]
    },
    {
      "cell_type": "markdown",
      "metadata": {
        "id": "_f2FmsFZf94S"
      },
      "source": [
        "Logistic Regression"
      ]
    },
    {
      "cell_type": "code",
      "execution_count": 144,
      "metadata": {
        "id": "ZMZS5dMKf5vw"
      },
      "outputs": [
        {
          "name": "stdout",
          "output_type": "stream",
          "text": [
            "Accuracy: 0.7936507936507936\n",
            "Classification Error: 0.2063492063492064\n",
            "Precision: 0.7632850241545893\n",
            "AUC Score: 0.794187641739228\n",
            "Cross-validated AUC: 0.8753371866593114\n",
            "First 10 predicted responses:\n",
            " [1 0 0 0 1 1 0 1 0 1]\n"
          ]
        }
      ],
      "source": [
        "# train a logistic regression model on the training set\n",
        "logreg = LogisticRegression()\n",
        "logreg.fit(X_train, y_train)\n",
        "    \n",
        "# make class predictions for the testing set\n",
        "y_pred_class = logreg.predict(X_test)\n",
        "    \n",
        "evalClassModel(logreg, y_test, y_pred_class, True)"
      ]
    },
    {
      "cell_type": "markdown",
      "metadata": {
        "id": "NPH7c5ozgQrQ"
      },
      "source": [
        "KNeighbors Classifier"
      ]
    },
    {
      "cell_type": "code",
      "execution_count": 145,
      "metadata": {
        "id": "cIIpZmUkgKhz"
      },
      "outputs": [
        {
          "name": "stdout",
          "output_type": "stream",
          "text": [
            "Accuracy: 0.8015873015873016\n",
            "Classification Error: 0.19841269841269837\n",
            "Precision: 0.75\n",
            "AUC Score: 0.8026010023238234\n",
            "Cross-validated AUC: 0.878889648937532\n",
            "First 10 predicted responses:\n",
            " [1 0 0 0 1 1 0 1 1 1]\n"
          ]
        }
      ],
      "source": [
        "# train a KNeighborsClassifier model on the training set\n",
        "knn = KNeighborsClassifier(n_neighbors=27, weights='uniform')\n",
        "knn.fit(X_train, y_train)\n",
        "    \n",
        "# make class predictions for the testing set\n",
        "y_pred_class = knn.predict(X_test)\n",
        "    \n",
        "evalClassModel(knn, y_test, y_pred_class, True)"
      ]
    },
    {
      "cell_type": "markdown",
      "metadata": {
        "id": "ATF-3ODii6IE"
      },
      "source": [
        "Decision Tree Classifier"
      ]
    },
    {
      "cell_type": "code",
      "execution_count": 146,
      "metadata": {
        "id": "FrbzKiXQgfIk"
      },
      "outputs": [
        {
          "name": "stdout",
          "output_type": "stream",
          "text": [
            "Accuracy: 0.8068783068783069\n",
            "Classification Error: 0.19312169312169314\n",
            "Precision: 0.7415254237288136\n",
            "AUC Score: 0.8082285746283282\n",
            "Cross-validated AUC: 0.8841380864248327\n",
            "First 10 predicted responses:\n",
            " [1 0 0 0 1 1 0 1 1 1]\n"
          ]
        }
      ],
      "source": [
        "# train a decision tree model on the training set\n",
        "tree = DecisionTreeClassifier(max_depth=3, min_samples_split=8, max_features=6, criterion='entropy', min_samples_leaf=7)\n",
        "tree.fit(X_train, y_train)\n",
        "    \n",
        "# make class predictions for the testing set\n",
        "y_pred_class = tree.predict(X_test)\n",
        "    \n",
        "evalClassModel(tree, y_test, y_pred_class, True)"
      ]
    },
    {
      "cell_type": "markdown",
      "metadata": {
        "id": "SkOs4a2ajLaM"
      },
      "source": [
        "Random Forest Classifier"
      ]
    },
    {
      "cell_type": "code",
      "execution_count": 147,
      "metadata": {
        "id": "_pLiMXGZjFgC"
      },
      "outputs": [
        {
          "name": "stdout",
          "output_type": "stream",
          "text": [
            "Accuracy: 0.8121693121693122\n",
            "Classification Error: 0.1878306878306878\n",
            "Precision: 0.75\n",
            "AUC Score: 0.8134081809782457\n",
            "Cross-validated AUC: 0.8934280651104528\n",
            "First 10 predicted responses:\n",
            " [1 0 0 0 1 1 0 1 1 1]\n"
          ]
        }
      ],
      "source": [
        "# building and fitting my_forest\n",
        "forest = RandomForestClassifier(max_depth = None, min_samples_leaf=8, min_samples_split=2, n_estimators = 20, random_state = 1)\n",
        "my_forest = forest.fit(X_train, y_train)\n",
        "    \n",
        "# make class predictions for the testing set\n",
        "y_pred_class = my_forest.predict(X_test)\n",
        "    \n",
        "evalClassModel(my_forest, y_test, y_pred_class, True)"
      ]
    },
    {
      "cell_type": "code",
      "execution_count": 36,
      "metadata": {},
      "outputs": [],
      "source": [
        "import pickle\n",
        " \n",
        "with open('model.pkl', 'wb') as files:\n",
        "    pickle.dump(forest, files)"
      ]
    }
  ],
  "metadata": {
    "colab": {
      "collapsed_sections": [],
      "include_colab_link": true,
      "name": "TIP_Project.ipynb",
      "provenance": []
    },
    "kernelspec": {
      "display_name": "Python 3",
      "name": "python3"
    },
    "language_info": {
      "codemirror_mode": {
        "name": "ipython",
        "version": 3
      },
      "file_extension": ".py",
      "mimetype": "text/x-python",
      "name": "python",
      "nbconvert_exporter": "python",
      "pygments_lexer": "ipython3",
      "version": "3.9.6"
    }
  },
  "nbformat": 4,
  "nbformat_minor": 0
}
